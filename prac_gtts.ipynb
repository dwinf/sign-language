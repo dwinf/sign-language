{
 "cells": [
  {
   "cell_type": "code",
   "execution_count": 1,
   "metadata": {},
   "outputs": [],
   "source": [
    "from gtts import gTTS \n",
    "__author__ = 'info-lab' \n",
    "tts = gTTS( text='안녕하세요', lang='ko', slow=False ) \n",
    "tts.save('ex_ko.mp3') \n",
    "tts1 = gTTS( text='Hello', lang='en', slow=False ) \n",
    "tts1.save('ex_en.mp3')\n"
   ]
  },
  {
   "cell_type": "code",
   "execution_count": 1,
   "metadata": {},
   "outputs": [],
   "source": [
    "import speech_recognition as sr \n",
    "from gtts import gTTS \n",
    "import os \n",
    "import time \n",
    "import playsound \n",
    "def speak(text): \n",
    "    tts = gTTS(text=text, lang='ko') \n",
    "    filename='voice.mp3' \n",
    "    tts.save(filename) \n",
    "    playsound.playsound(filename) \n",
    "    \n",
    "speak(\"안녕하세요. 길동씨\")"
   ]
  },
  {
   "cell_type": "code",
   "execution_count": 9,
   "metadata": {},
   "outputs": [],
   "source": [
    "import pyttsx3\n",
    "# TTS 엔진 초기화\n",
    "engine = pyttsx3.init()\n",
    "\n",
    "# 말하는 속도\n",
    "engine.setProperty('rate', 180)\n",
    "rate = engine.getProperty('rate')\n",
    "\n",
    "# 소리 크기\n",
    "engine.setProperty('volume', 0.5) # 0~1 \n",
    "volume = engine.getProperty('volume')\n",
    "\n",
    "# 목소리\n",
    "voices = engine.getProperty('voices')\n",
    "engine.setProperty('voice', voices[0].id) # 남성\n",
    "#engine.setProperty('voice', voices[1].id) # 여성\n",
    "\n",
    "# 말하기\n",
    "engine.say(\"안녕하세요.\") \n",
    "engine.runAndWait() # 말 다할때까지 대기\n",
    "engine.stop() # 끝"
   ]
  }
 ],
 "metadata": {
  "kernelspec": {
   "display_name": "pydatavenv",
   "language": "python",
   "name": "pydatavenv"
  },
  "language_info": {
   "codemirror_mode": {
    "name": "ipython",
    "version": 3
   },
   "file_extension": ".py",
   "mimetype": "text/x-python",
   "name": "python",
   "nbconvert_exporter": "python",
   "pygments_lexer": "ipython3",
   "version": "3.8.8"
  }
 },
 "nbformat": 4,
 "nbformat_minor": 4
}
