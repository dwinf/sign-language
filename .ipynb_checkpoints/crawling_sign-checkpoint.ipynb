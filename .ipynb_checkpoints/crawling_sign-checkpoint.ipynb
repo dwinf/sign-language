{
 "cells": [
  {
   "cell_type": "code",
   "execution_count": 1,
   "metadata": {},
   "outputs": [],
   "source": [
    "import urllib.request\n",
    "import pandas as pd\n",
    "from selenium import webdriver\n",
    "from selenium.webdriver.common.keys import Keys \n",
    "import time\n",
    "import re"
   ]
  },
  {
   "cell_type": "code",
   "execution_count": 2,
   "metadata": {},
   "outputs": [],
   "source": [
    "daily = []\n",
    "professional = []"
   ]
  },
  {
   "cell_type": "code",
   "execution_count": 3,
   "metadata": {},
   "outputs": [],
   "source": [
    "url = \"http://sldict.korean.go.kr/front/main/main.do\"\n",
    "\n",
    "driver = webdriver.Chrome('C:/Temp/chromedriver')\n",
    "driver.implicitly_wait(120) \n",
    "\n",
    "driver.get(url) "
   ]
  },
  {
   "cell_type": "code",
   "execution_count": null,
   "metadata": {},
   "outputs": [],
   "source": [
    "for i in range(1,3):\n",
    "    movepg = driver.find_element_by_xpath('//*[@id=\"menu\"]/div/div/ul/li[' + str(i) + ']/a')\n",
    "    movepg.click()\n",
    "    time.sleep(1)\n",
    "\n",
    "    click = driver.find_element_by_css_selector('#signListForm > div.result_list.mt_30 > div.wrap_list > ul > li:nth-child(1) > div.list_left')\n",
    "    click.click()\n",
    "    count = 1\n",
    "    \n",
    "    while True:\n",
    "        video = driver.find_element_by_css_selector(\"#html5Video > source:nth-child(2)\")\n",
    "\n",
    "        src = video.get_attribute('src')\n",
    "\n",
    "        name = driver.find_element_by_xpath(\"//*[@id='signViewForm']/dl/dd\")\n",
    "        print(count, \":\", name.text,sep='', end=' ')\n",
    "        if(i == 1):\n",
    "            title = './videos/일상/' + re.sub(\"/\", \"\\/\", name.text) + '.mp4'\n",
    "            urllib.request.urlretrieve(src, title)\n",
    "        else:\n",
    "            title = './videos/전문/' + re.sub(\"/\", \"\\/\", name.text) + '.mp4'\n",
    "            urllib.request.urlretrieve(src, title)\n",
    "        \n",
    "        count += 1\n",
    "        if(i == 1):\n",
    "            daily.append(name.text)\n",
    "        else:\n",
    "            professional.append(name.text)\n",
    "\n",
    "        nextbtn = driver.find_element_by_css_selector(\"#signViewForm > div.btn_set.mt_30 > a:nth-child(2)\")\n",
    "        if (nextbtn.get_attribute('href') == \"javascript:alert('%EB%8B%A4%EC%9D%8C%EA%B8%80%EC%9D%B4 %EC%A1%B4%EC%9E%AC%ED%95%98%EC%A7%80 %EC%95%8A%EC%8A%B5%EB%8B%88%EB%8B%A4.')\"):\n",
    "            break\n",
    "        else:    \n",
    "            nextbtn.click()\n",
    "            time.sleep(0.5)"
   ]
  },
  {
   "cell_type": "code",
   "execution_count": null,
   "metadata": {},
   "outputs": [],
   "source": [
    "print(len(daily))\n",
    "print(daily[-1])\n",
    "#print(daily)"
   ]
  },
  {
   "cell_type": "code",
   "execution_count": 11,
   "metadata": {},
   "outputs": [
    {
     "name": "stdout",
     "output_type": "stream",
     "text": [
      "3576:처남 3577:디자인 3578:누이 3579:여성 단체,부녀회 3580:바다,해양 3581:ㅣ 3582:대모 3583:꼴찌 3584:미녀,미인 3585:막내딸,막내 3586:마누라,미시즈,배우자,부인,아내,처 3587:연인,애인 3588:해수욕 3589:괜찮다,무방하다 3590:자매 3591:차녀 3592:사위 3593:여성가족부 3594:여동생,누이,누이동생 3595:언니 3596:장인 3597:처형 3598:시집가다,출가 3599:아이디어 3600:처가 3601:계모 3602:딸,여식 3603:맏딸,장녀 3604:외동딸,무남독녀,외딸 3605:누나,누님 3606:위약 3607:여성부 3608:애처가 3609:매형,매부 3610:하이힐 3611:해군 3612:매제 3613:홀아비 3614:형부 3615:해수욕장 3616:레즈비언 3617:디자이너 3618:꼭,약속,-야 3619:어기다 3620:곤충,벌레 3621:동맹 3622:훌륭하다 3623:존댓말,존대어 3624:인성 3625:인도,섬부주 3626:할까봐 3627:귀국,착륙,내려앉다 3628:자결,자살 3629:손가방,핸드백 3630:와이셔츠 3631:우수 3632:충성 3633:마약,아편,중독,탐닉 3634:알제리 3635:장하다 3636:충청북도,충북 3637:잠꾸러기 3638:상장 3639:사회 3640:있다 3641:유교 3642:독일 3643:인터뷰 3644:밤 3645:역사 3646:소매치기 3647:사람,인간,분,이,자,-민 3648:상 3649:충청남도 3650:고아원 3651:고아 3652:전화,전화기 3653:이륙,출국 3654:친척 3655:주전자 3656:데이트 3657:구인 3658:공군 3659:독일어 3660:도의,예의,에티켓 3661:비행기,항공,항공기 3662:맞선 3663:항공사 3664:공항,비행장 3665:곡괭이 3666:날치기 3667:팔도 3668:분,사람 3669:쿨쿨 3670:따르다 3671:소재 3672:인부 3673:영웅 3674:인품,인격 3675:저명인사 3676:전화번호 3677:충신 3678:조종사,비행사 3679:유적지 "
     ]
    }
   ],
   "source": [
    "#count -= 1\n",
    "count = 3575\n",
    "while True:\n",
    "        video = driver.find_element_by_css_selector(\"#html5Video > source:nth-child(2)\")\n",
    "\n",
    "        src = video.get_attribute('src')\n",
    "\n",
    "        name = driver.find_element_by_xpath(\"//*[@id='signViewForm']/dl/dd\")\n",
    "\n",
    "        title = './videos/일상/' + re.sub(\"/\", \"\\/\", name.text) + '.mp4'\n",
    "        urllib.request.urlretrieve(src, title)\n",
    "        count += 1\n",
    "        #daily.append(name.text)\n",
    "        print(count, \":\", name.text,sep='', end=' ')\n",
    "\n",
    "        nextbtn = driver.find_element_by_css_selector(\"#signViewForm > div.btn_set.mt_30 > a:nth-child(2)\")\n",
    "        if (nextbtn.get_attribute('href') == \"javascript:alert('%EB%8B%A4%EC%9D%8C%EA%B8%80%EC%9D%B4 %EC%A1%B4%EC%9E%AC%ED%95%98%EC%A7%80 %EC%95%8A%EC%8A%B5%EB%8B%88%EB%8B%A4.')\"):\n",
    "            break\n",
    "        else:    \n",
    "            nextbtn.click() \n",
    "            #time.sleep(1)"
   ]
  },
  {
   "cell_type": "code",
   "execution_count": 14,
   "metadata": {},
   "outputs": [
    {
     "name": "stdout",
     "output_type": "stream",
     "text": [
      "1:자위 2:음핵 3:약사 4:삼출 5:복용량 6:몸에 맞다 7:내성 8:간헐적 9:고창 10:탈구 11:카리에스 12:추간판 13:천자 14:척추 후궁 절제술 15:척추 전만증 16:척추 17:척주 후만증 18:척주 측만증 19:척주 20:척수 마취 21:접골 22:자극 23:소켓 24:뼈 25:빗장뼈 26:불완전 굴곡 골절 27:복잡 골절 28:반응 29:무감각 30:골절 31:골수 32:골병증 33:골다공증 34:골관절염 35:골관절 36:골격계 37:골격 38:경부 39:개방골절 40:골 41:후천 면역 결핍 증후군 42:효능 43:환각제 44:환각 45:혼란하다 46:혈압계 47:합성 48:합병증 49:하제 50:판막 51:파파니콜로검사 52:파열 53:통제물질 54:콘딜로마 55:코카인 56:지사제 57:전기지짐기 58:자궁 절제술 59:자궁내 장치 60:자궁관 61:자궁 62:임플란트 63:인체 면역 결핍 바이러스 64:이어폰 65:유산 66:억압 67:양수 68:양막천자 69:양막 70:아동기 질병 71:심전도 72:심장허파소생술 73:심장 정지 74:심장장애 75:심장 절개술 76:심장병학 77:심장병 78:심장마비 79:심장 80:심부전 81:심박조율기 82:심박동 83:심근경색증 84:소화불량 85:소화 86:소파 87:소아과학 88:소아과 의사 89:성병 90:섬망 91:설사 92:색소 93:색맹 94:사면발니 95:비만 96:비대 97:배림 98:물리치료 99:몽정 100:몸져눕다 101:망상 102:마사지 103:마비 104:낙태 105:기질 106:기능장애 107:구속 108:고정기 109:강심제 110:가려움 111:나병 112:한센병 113:에이즈 114:피부병 115:염통 116:콜레라 117:협심증 118:소아과 119:몽유병 120:희석 121:혈장 122:탄산가스 123:컴퓨터 단층촬영 124:알약 125:알레르기 항원 독 126:마시는 약 127:로션 128:딸꾹질 129:구역 130:주기적 131:주기 132:힘줄 133:휠체어 134:항 135:포피 136:포경수술 137:평형 138:탈출증 139:탈진 140:족학 141:정체 142:정관 절제술 143:전염성 144:전염되다 145:전립선 146:장 147:의존 148:음낭 149:음경 150:운동실조 151:운동과다증 152:오한 153:염좌 154:양성 155:생체리듬 156:생체검사 157:생체 158:부패 159:백신 160:배출 161:방향약 162:방부제 163:발 전문가 164:발작 수면 165:발작 166:발작 167:발목 168:무기력 169:레지던트 170:동물공포증 171:급성 유행 결막염 172:급성 173:고환 174:건강진단 175:건강식품 176:건강보험 177:건강 178:거세 179:감염 되기 쉽다 180:감염 181:자지 182:건망증 183:무좀 184:건강장애 185:학질 186:파킨슨병 187:코르티손 188:주의력 결핍장애 189:주의력 결핍 과잉행동장애 190:주의력 191:수면 무호흡 192:소기 193:관절염 194:관절 195:건초열 196:의상 도착증 환자 197:여성 198:부인과학 199:부인과 전문의 200:배아 201:배란 202:동성애자 203:난자 204:난소 절제술 205:난소 206:경관 확장 자궁 소파술 207:소독 208:풍진 209:중독자 210:장미진 211:인공호흡기 212:사회사업가 213:사회사업 214:사회병질자 215:비행기 멀미 216:모르핀 217:마약중독 218:마약 219:금단 "
     ]
    }
   ],
   "source": [
    "count = 0\n",
    "while True:\n",
    "        video = driver.find_element_by_css_selector(\"#html5Video > source:nth-child(2)\")\n",
    "\n",
    "        src = video.get_attribute('src')\n",
    "\n",
    "        name = driver.find_element_by_xpath(\"//*[@id='signViewForm']/dl/dd\")\n",
    "        \n",
    "        #temp = re.sub(\"[一-龥()a-zA-Z0-9\\-]\", \"\", name.text)\n",
    "        temp = re.sub(\"[^가-힣\\s]\", \"\", name.text)\n",
    "        #temp = re.sub(\"-$\", \"\", temp.strip())\n",
    "        \n",
    "        title = './videos/의료/' + temp.strip() + '.mp4'\n",
    "        urllib.request.urlretrieve(src, title)\n",
    "        time.sleep(0.5)\n",
    "        count += 1\n",
    "        professional.append(temp)\n",
    "        print(count, \":\", temp.strip(), sep='', end=' ')\n",
    "     \n",
    "        nextbtn = driver.find_element_by_css_selector(\"#signViewForm > div.btn_set.mt_30 > a:nth-child(2)\")\n",
    "        if (nextbtn.get_attribute('href') == \"javascript:alert('%EB%8B%A4%EC%9D%8C%EA%B8%80%EC%9D%B4 %EC%A1%B4%EC%9E%AC%ED%95%98%EC%A7%80 %EC%95%8A%EC%8A%B5%EB%8B%88%EB%8B%A4.')\"):\n",
    "            break\n",
    "        else:    \n",
    "            #nextbtn.click()\n",
    "            driver.execute_script(\"arguments[0].click();\", nextbtn)\n",
    "\n",
    "            #time.sleep(0.5)"
   ]
  },
  {
   "cell_type": "code",
   "execution_count": null,
   "metadata": {},
   "outputs": [],
   "source": []
  }
 ],
 "metadata": {
  "kernelspec": {
   "display_name": "pydatavenv",
   "language": "python",
   "name": "pydatavenv"
  },
  "language_info": {
   "codemirror_mode": {
    "name": "ipython",
    "version": 3
   },
   "file_extension": ".py",
   "mimetype": "text/x-python",
   "name": "python",
   "nbconvert_exporter": "python",
   "pygments_lexer": "ipython3",
   "version": "3.8.8"
  }
 },
 "nbformat": 4,
 "nbformat_minor": 4
}
