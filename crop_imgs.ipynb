{
 "cells": [
  {
   "cell_type": "code",
   "execution_count": 3,
   "metadata": {},
   "outputs": [],
   "source": [
    "import os\n",
    "import cv2\n",
    "import random\n",
    "import numpy as np\n",
    "import pandas as pd\n",
    "import tensorflow as tf\n",
    "import matplotlib.pyplot as plt\n",
    "from PIL import Image"
   ]
  },
  {
   "cell_type": "code",
   "execution_count": null,
   "metadata": {},
   "outputs": [],
   "source": [
    "# 학습데이터 정제\n",
    "# 임의의 프레임 추출코드 - 항목마다 전체 이미지 갯수가 다르다\n",
    "base_dir = './data/pre'\n",
    "folder_list = os.listdir(base_dir)\n",
    "batch_size = 1\n",
    "batch_x_data = list()\n",
    "batch_t_data = list()\n",
    "\n",
    "frame_num = 20\n",
    "\n",
    "for folder_name in folder_list:\n",
    "    movedir = base_dir + '/' + folder_name # ./data/pre/17_front\n",
    "    \n",
    "    for folder in os.listdir(movedir):\n",
    "        img_dir = movedir + '/' + folder # ./data/pre/17_front/0 \n",
    "        #print(img_dir)\n",
    "        ## 이미지 크기 지정 코드(랜덤)\n",
    "        # 자기가 가진 이미지를 보고 조정할 필요가 있음\n",
    "        left = random.randint(0, 21)\n",
    "        # up = random.randint(21) # 위로는 여백이 부족\n",
    "        right = random.randint(200, 225)\n",
    "        down = random.randint(180, 225)\n",
    "        \n",
    "        for img in range(len(os.listdir(img_dir))): # 0부터 순서대로 가기 위해 len함수 사용\n",
    "            #print(os.listdir(img_dir), end=' ')# '0.jpg', '1.jpg', '10.jpg'\n",
    "            ## 이미지 크롭 후 리사이즈\n",
    "            img_name = img_dir + '/' + str(img) + '.jpg'\n",
    "            img = Image.open(img_name)\n",
    "            crop_img = img.crop((left, 0, right, down))\n",
    "            crop_img = crop_img.resize((224,224))\n",
    "            print(img_name)"
   ]
  },
  {
   "cell_type": "code",
   "execution_count": null,
   "metadata": {},
   "outputs": [],
   "source": [
    "for folder in folder_list[0:1*batch_size]:\n",
    "    for n in range(10):\n",
    "        file_list = os.listdir(os.path.join(base_dir, (folder+'/'+str(n))))\n",
    "        temp_data = list()\n",
    "        for i in range(frame_num):\n",
    "            img = Image.open(os.path.join(base_dir, (folder+'/'+str(n)+'/'+str(int(40+(i*((len(file_list)-80)/frame_num)))))+'.jpg'))\n",
    "            img = img.resize(size=(112, 112))\n",
    "            img = np.array(img)\n",
    "            img = img.reshape(112,112,3)\n",
    "            temp_data.append(img)\n",
    "        temp_data = np.array(temp_data)\n",
    "        batch_x_data.append(temp_data)\n",
    "        batch_t_data.append(n)"
   ]
  }
 ],
 "metadata": {
  "kernelspec": {
   "display_name": "pydatavenv",
   "language": "python",
   "name": "pydatavenv"
  },
  "language_info": {
   "codemirror_mode": {
    "name": "ipython",
    "version": 3
   },
   "file_extension": ".py",
   "mimetype": "text/x-python",
   "name": "python",
   "nbconvert_exporter": "python",
   "pygments_lexer": "ipython3",
   "version": "3.8.8"
  }
 },
 "nbformat": 4,
 "nbformat_minor": 4
}
