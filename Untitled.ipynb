{
 "cells": [
  {
   "cell_type": "code",
   "execution_count": 2,
   "id": "5e6f9d55-d950-453b-b09a-747e4167eb56",
   "metadata": {},
   "outputs": [],
   "source": [
    "import urllib.request\n",
    "from selenium import webdriver\n",
    "from selenium.webdriver.common.keys import Keys \n",
    "import time\n",
    "\n",
    "\n",
    "driver = webdriver.Chrome('C:/Temp/chromedriver')\n",
    "#driver = webdriver.Ie(executable_path='C:/Temp/IEDriverServer')\n",
    "#driver = webdriver.Firefox(executable_path='C:/Temp/geckodriver')\n",
    "\n",
    "#driver.implicitly_wait(1)"
   ]
  },
  {
   "cell_type": "code",
   "execution_count": 6,
   "id": "f5f0d631-d846-45af-945a-23576a73fd1e",
   "metadata": {},
   "outputs": [],
   "source": [
    "url = \"http://3.35.103.224:8888/tts/?text=이게\"\n",
    "driver.get(url) \n",
    "time.sleep(2)\n",
    "\n",
    "driver.execute_script(\"document.getElementById('my_play').play();\")"
   ]
  }
 ],
 "metadata": {
  "kernelspec": {
   "display_name": "Python 3",
   "language": "python",
   "name": "python3"
  },
  "language_info": {
   "codemirror_mode": {
    "name": "ipython",
    "version": 3
   },
   "file_extension": ".py",
   "mimetype": "text/x-python",
   "name": "python",
   "nbconvert_exporter": "python",
   "pygments_lexer": "ipython3",
   "version": "3.8.8"
  }
 },
 "nbformat": 4,
 "nbformat_minor": 5
}
