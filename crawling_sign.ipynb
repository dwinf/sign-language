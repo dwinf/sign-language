{
 "cells": [
  {
   "cell_type": "code",
   "execution_count": 118,
   "metadata": {},
   "outputs": [],
   "source": [
    "import urllib.request\n",
    "import pandas as pd\n",
    "from selenium import webdriver\n",
    "from selenium.webdriver.common.keys import Keys \n",
    "import time\n",
    "import re"
   ]
  },
  {
   "cell_type": "code",
   "execution_count": 3,
   "metadata": {},
   "outputs": [],
   "source": [
    "daily = []\n",
    "professional = []"
   ]
  },
  {
   "cell_type": "code",
   "execution_count": 119,
   "metadata": {},
   "outputs": [],
   "source": [
    "url = \"http://sldict.korean.go.kr/front/main/main.do\"\n",
    "\n",
    "driver = webdriver.Chrome('C:/Temp/chromedriver')\n",
    "driver.implicitly_wait(120) \n",
    "\n",
    "driver.get(url) "
   ]
  },
  {
   "cell_type": "code",
   "execution_count": null,
   "metadata": {},
   "outputs": [],
   "source": [
    "for i in range(1,3):\n",
    "    movepg = driver.find_element_by_xpath('//*[@id=\"menu\"]/div/div/ul/li[' + str(i) + ']/a')\n",
    "    movepg.click()\n",
    "    time.sleep(1)\n",
    "\n",
    "    click = driver.find_element_by_css_selector('#signListForm > div.result_list.mt_30 > div.wrap_list > ul > li:nth-child(1) > div.list_left')\n",
    "    click.click()\n",
    "    count = 1\n",
    "    \n",
    "    while True:\n",
    "        video = driver.find_element_by_css_selector(\"#html5Video > source:nth-child(2)\")\n",
    "\n",
    "        src = video.get_attribute('src')\n",
    "\n",
    "        name = driver.find_element_by_xpath(\"//*[@id='signViewForm']/dl/dd\")\n",
    "        print(count, \":\", name.text,sep='', end=' ')\n",
    "        if(i == 1):\n",
    "            title = './videos/일상/' + re.sub(\"/\", \"\\/\", name.text) + '.mp4'\n",
    "            urllib.request.urlretrieve(src, title)\n",
    "        else:\n",
    "            title = './videos/전문/' + re.sub(\"/\", \"\\/\", name.text) + '.mp4'\n",
    "            urllib.request.urlretrieve(src, title)\n",
    "        \n",
    "        count += 1\n",
    "        if(i == 1):\n",
    "            daily.append(name.text)\n",
    "        else:\n",
    "            professional.append(name.text)\n",
    "\n",
    "        nextbtn = driver.find_element_by_css_selector(\"#signViewForm > div.btn_set.mt_30 > a:nth-child(2)\")\n",
    "        if (nextbtn.get_attribute('href') == \"javascript:alert('%EB%8B%A4%EC%9D%8C%EA%B8%80%EC%9D%B4 %EC%A1%B4%EC%9E%AC%ED%95%98%EC%A7%80 %EC%95%8A%EC%8A%B5%EB%8B%88%EB%8B%A4.')\"):\n",
    "            break\n",
    "        else:    \n",
    "            nextbtn.click()\n",
    "            time.sleep(0.5)"
   ]
  },
  {
   "cell_type": "code",
   "execution_count": null,
   "metadata": {},
   "outputs": [],
   "source": [
    "print(len(daily))\n",
    "print(daily[-1])\n",
    "#print(daily)"
   ]
  },
  {
   "cell_type": "code",
   "execution_count": 11,
   "metadata": {},
   "outputs": [
    {
     "name": "stdout",
     "output_type": "stream",
     "text": [
      "3576:처남 3577:디자인 3578:누이 3579:여성 단체,부녀회 3580:바다,해양 3581:ㅣ 3582:대모 3583:꼴찌 3584:미녀,미인 3585:막내딸,막내 3586:마누라,미시즈,배우자,부인,아내,처 3587:연인,애인 3588:해수욕 3589:괜찮다,무방하다 3590:자매 3591:차녀 3592:사위 3593:여성가족부 3594:여동생,누이,누이동생 3595:언니 3596:장인 3597:처형 3598:시집가다,출가 3599:아이디어 3600:처가 3601:계모 3602:딸,여식 3603:맏딸,장녀 3604:외동딸,무남독녀,외딸 3605:누나,누님 3606:위약 3607:여성부 3608:애처가 3609:매형,매부 3610:하이힐 3611:해군 3612:매제 3613:홀아비 3614:형부 3615:해수욕장 3616:레즈비언 3617:디자이너 3618:꼭,약속,-야 3619:어기다 3620:곤충,벌레 3621:동맹 3622:훌륭하다 3623:존댓말,존대어 3624:인성 3625:인도,섬부주 3626:할까봐 3627:귀국,착륙,내려앉다 3628:자결,자살 3629:손가방,핸드백 3630:와이셔츠 3631:우수 3632:충성 3633:마약,아편,중독,탐닉 3634:알제리 3635:장하다 3636:충청북도,충북 3637:잠꾸러기 3638:상장 3639:사회 3640:있다 3641:유교 3642:독일 3643:인터뷰 3644:밤 3645:역사 3646:소매치기 3647:사람,인간,분,이,자,-민 3648:상 3649:충청남도 3650:고아원 3651:고아 3652:전화,전화기 3653:이륙,출국 3654:친척 3655:주전자 3656:데이트 3657:구인 3658:공군 3659:독일어 3660:도의,예의,에티켓 3661:비행기,항공,항공기 3662:맞선 3663:항공사 3664:공항,비행장 3665:곡괭이 3666:날치기 3667:팔도 3668:분,사람 3669:쿨쿨 3670:따르다 3671:소재 3672:인부 3673:영웅 3674:인품,인격 3675:저명인사 3676:전화번호 3677:충신 3678:조종사,비행사 3679:유적지 "
     ]
    }
   ],
   "source": [
    "#count -= 1\n",
    "count = 3575\n",
    "while True:\n",
    "        video = driver.find_element_by_css_selector(\"#html5Video > source:nth-child(2)\")\n",
    "\n",
    "        src = video.get_attribute('src')\n",
    "\n",
    "        name = driver.find_element_by_xpath(\"//*[@id='signViewForm']/dl/dd\")\n",
    "\n",
    "        title = './videos/일상/' + re.sub(\"/\", \"\\/\", name.text) + '.mp4'\n",
    "        urllib.request.urlretrieve(src, title)\n",
    "        count += 1\n",
    "        #daily.append(name.text)\n",
    "        print(count, \":\", name.text,sep='', end=' ')\n",
    "\n",
    "        nextbtn = driver.find_element_by_css_selector(\"#signViewForm > div.btn_set.mt_30 > a:nth-child(2)\")\n",
    "        if (nextbtn.get_attribute('href') == \"javascript:alert('%EB%8B%A4%EC%9D%8C%EA%B8%80%EC%9D%B4 %EC%A1%B4%EC%9E%AC%ED%95%98%EC%A7%80 %EC%95%8A%EC%8A%B5%EB%8B%88%EB%8B%A4.')\"):\n",
    "            break\n",
    "        else:    \n",
    "            nextbtn.click() \n",
    "            #time.sleep(1)"
   ]
  },
  {
   "cell_type": "code",
   "execution_count": 211,
   "metadata": {},
   "outputs": [
    {
     "name": "stdout",
     "output_type": "stream",
     "text": [
      "1:비행기 표지 2:인격권 3:사회 통합 4:사회봉사 명령 제도 5:민사 재판 6:민사 소송법 7:민법 8:인권 "
     ]
    }
   ],
   "source": [
    "count = 0\n",
    "while True:\n",
    "        video = driver.find_element_by_css_selector(\"#html5Video > source:nth-child(2)\")\n",
    "\n",
    "        src = video.get_attribute('src')\n",
    "\n",
    "        name = driver.find_element_by_xpath(\"//*[@id='signViewForm']/dl/dd\")\n",
    "        \n",
    "        #temp = re.sub(\"[一-龥()a-zA-Z0-9\\-]\", \"\", name.text)\n",
    "        temp = re.sub(\"[^가-힣\\s\\-]\", \"\", name.text)\n",
    "        temp = re.sub(\"-$\", \"\", temp.strip())\n",
    "        \n",
    "        title = './videos/전문/' + temp.strip() + '.mp4'\n",
    "        urllib.request.urlretrieve(src, title)\n",
    "        time.sleep(0.5)\n",
    "        count += 1\n",
    "        professional.append(temp)\n",
    "        print(count, \":\", temp.strip(), sep='', end=' ')\n",
    "     \n",
    "        nextbtn = driver.find_element_by_css_selector(\"#signViewForm > div.btn_set.mt_30 > a:nth-child(2)\")\n",
    "        if (nextbtn.get_attribute('href') == \"javascript:alert('%EB%8B%A4%EC%9D%8C%EA%B8%80%EC%9D%B4 %EC%A1%B4%EC%9E%AC%ED%95%98%EC%A7%80 %EC%95%8A%EC%8A%B5%EB%8B%88%EB%8B%A4.')\"):\n",
    "            break\n",
    "        else:    \n",
    "            #nextbtn.click()\n",
    "            driver.execute_script(\"arguments[0].click();\", nextbtn)\n",
    "\n",
    "            #time.sleep(0.5)"
   ]
  }
 ],
 "metadata": {
  "kernelspec": {
   "display_name": "pydatavenv",
   "language": "python",
   "name": "pydatavenv"
  },
  "language_info": {
   "codemirror_mode": {
    "name": "ipython",
    "version": 3
   },
   "file_extension": ".py",
   "mimetype": "text/x-python",
   "name": "python",
   "nbconvert_exporter": "python",
   "pygments_lexer": "ipython3",
   "version": "3.8.8"
  }
 },
 "nbformat": 4,
 "nbformat_minor": 4
}
