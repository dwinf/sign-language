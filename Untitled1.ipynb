{
 "cells": [
  {
   "cell_type": "code",
   "execution_count": 18,
   "id": "19ddd6a2-3a46-4c36-ad38-c1c45cbe212c",
   "metadata": {},
   "outputs": [],
   "source": [
    "import pandas as pd\n",
    "\n",
    "df = pd.read_csv('data/keti_words_list.csv', header = None)\n",
    "df = df.T\n",
    "\n",
    "df = list(df.iloc[0])\n",
    "\n",
    "df = {i:df[i] for i in range(len(df))}"
   ]
  },
  {
   "cell_type": "code",
   "execution_count": 20,
   "id": "e709c68c-87de-4b6a-beb7-77a11e3dce36",
   "metadata": {},
   "outputs": [
    {
     "data": {
      "text/plain": [
       "{0: '가렵다',\n",
       " 1: '가슴',\n",
       " 2: '골절',\n",
       " 3: '귀',\n",
       " 4: '기절하다',\n",
       " 5: '떨어지다',\n",
       " 6: '쓰러지다',\n",
       " 7: '머리',\n",
       " 8: '목',\n",
       " 9: '발',\n",
       " 10: '복부',\n",
       " 11: '삼키다',\n",
       " 12: '손',\n",
       " 13: '심장마비',\n",
       " 14: '어깨',\n",
       " 15: '어지러움',\n",
       " 16: '열나다',\n",
       " 17: '자상',\n",
       " 18: '창백하다',\n",
       " 19: '출산',\n",
       " 20: '피나다',\n",
       " 21: '토하다',\n",
       " 22: '팔',\n",
       " 23: '허리',\n",
       " 24: '호흡곤란',\n",
       " 25: '화상'}"
      ]
     },
     "execution_count": 20,
     "metadata": {},
     "output_type": "execute_result"
    }
   ],
   "source": [
    "df"
   ]
  }
 ],
 "metadata": {
  "kernelspec": {
   "display_name": "Python 3",
   "language": "python",
   "name": "python3"
  },
  "language_info": {
   "codemirror_mode": {
    "name": "ipython",
    "version": 3
   },
   "file_extension": ".py",
   "mimetype": "text/x-python",
   "name": "python",
   "nbconvert_exporter": "python",
   "pygments_lexer": "ipython3",
   "version": "3.8.8"
  }
 },
 "nbformat": 4,
 "nbformat_minor": 5
}
